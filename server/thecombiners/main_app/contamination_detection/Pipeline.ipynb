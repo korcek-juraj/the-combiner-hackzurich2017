{
 "cells": [
  {
   "cell_type": "code",
   "execution_count": 1,
   "metadata": {
    "collapsed": true,
    "deletable": true,
    "editable": true
   },
   "outputs": [],
   "source": [
    "import numpy as np\n",
    "import cv2\n",
    "from matplotlib import pyplot as plt\n",
    "from contamination_detection import contamination, feature_image\n",
    "from __future__ import print_function\n",
    "from ipywidgets import *\n",
    "import ipywidgets as widgets\n",
    "from IPython.display import display\n",
    "from scipy import ndimage\n",
    "\n",
    "\n",
    "path = \"/home/natalija/Documents/HackZurich/contamination_detection/src/contamination1.jpg\"\n",
    "no_path = \"/home/natalija/Documents/HackZurich//contamination_detection/src/no_contamination1.jpg\"\n",
    "\n",
    "image = cv2.imread(path)\n",
    "no_image = cv2.imread(no_path, 0)"
   ]
  },
  {
   "cell_type": "code",
   "execution_count": 2,
   "metadata": {
    "collapsed": false,
    "deletable": true,
    "editable": true
   },
   "outputs": [],
   "source": [
    "def display_img(tresh_min, tresh_max, iterations, k, path = \"/home/natalija/Documents/HackZurich/contamination_detection/src/contamination1.jpg\"):\n",
    "    image_mask = feature_image(path, tresh_min, tresh_max, iterations, k)\n",
    "    plt.axis('off')\n",
    "    plt.imshow(image_mask, \"gray\")\n",
    "    plt.show()\n",
    "    return image_mask"
   ]
  },
  {
   "cell_type": "code",
   "execution_count": 3,
   "metadata": {
    "collapsed": false,
    "deletable": true,
    "editable": true
   },
   "outputs": [
    {
     "data": {
      "application/vnd.jupyter.widget-view+json": {
       "model_id": "a36b6cff69754385b396d17ee25c06bc"
      }
     },
     "metadata": {},
     "output_type": "display_data"
    }
   ],
   "source": [
    "interactive(display_img, tresh_min=100, tresh_max=100, iterations=3, k=3)"
   ]
  },
  {
   "cell_type": "code",
   "execution_count": 4,
   "metadata": {
    "collapsed": false,
    "deletable": true,
    "editable": true,
    "scrolled": true
   },
   "outputs": [
    {
     "data": {
      "image/png": "[encoded data removed]",
      "text/plain": [
       "<matplotlib.figure.Figure at 0x7f3af33110f0>"
      ]
     },
     "metadata": {},
     "output_type": "display_data"
    },
    {
     "data": {
      "image/png": "[encoded data removed]",
      "text/plain": [
       "<matplotlib.figure.Figure at 0x7f3af2fb50b8>"
      ]
     },
     "metadata": {},
     "output_type": "display_data"
    }
   ],
   "source": [
    "path = \"/home/natalija/Documents/HackZurich/contamination_detection/src/contamination1.jpg\"\n",
    "image = cv2.imread(path)\n",
    "img_mask = display_img(138, 217, 6, 7,path=path)\n",
    "\n",
    "\n",
    "x, y = img_mask.shape\n",
    "\n",
    "for i in range(x):\n",
    "    for j in range(y): \n",
    "        if img_mask[i,j]!=0:\n",
    "            image[i,j,:] = [255, 255, 255]\n",
    "        \n",
    "cv2.imwrite(\"/home/natalija/Documents/HackZurich/contamination_detection/src/new1.jpg\", image)        \n",
    "plt.axis('off')\n",
    "plt.imshow(cv2.cvtColor(image, cv2.COLOR_RGB2BGR))\n",
    "plt.show()    "
   ]
  },
  {
   "cell_type": "code",
   "execution_count": 5,
   "metadata": {
    "collapsed": false,
    "deletable": true,
    "editable": true
   },
   "outputs": [],
   "source": [
    "labeled, nr_objects = ndimage.label(1-img_mask)"
   ]
  },
  {
   "cell_type": "code",
   "execution_count": 6,
   "metadata": {
    "collapsed": false,
    "deletable": true,
    "editable": true
   },
   "outputs": [],
   "source": [
    "d = {}\n",
    "x,y = labeled.shape\n",
    "for i in range(1,nr_objects+1): \n",
    "    d[i] = np.zeros((x,y,3))\n",
    "    \n",
    "for i in range(1,x): \n",
    "    for j in range(1,y): \n",
    "        if labeled[i,j]:\n",
    "            d[labeled[i,j]][i,j,:] = image[i,j,:]\n",
    "\n",
    "for key, value in d.items(): \n",
    "    non_empty_columns = np.where(value.max(axis=0)>0)[0]\n",
    "    non_empty_rows = np.where(value.max(axis=1)>0)[0]\n",
    "    cropBox = (min(non_empty_rows), max(non_empty_rows), min(non_empty_columns), max(non_empty_columns))\n",
    "    image_data_new = value[cropBox[0]:cropBox[1]+1, cropBox[2]:cropBox[3]+1 , :]\n",
    "    cv2.imwrite(\"/home/natalija/Documents/HackZurich/contamination_detection/src/image{}.png\".format(key), image_data_new)"
   ]
  },
  {
   "cell_type": "code",
   "execution_count": 7,
   "metadata": {
    "collapsed": true
   },
   "outputs": [],
   "source": [
    "path1 = \"/home/natalija/Documents/HackZurich/contamination_detection/src/beans/\"\n",
    "path2 =  \"/home/natalija/Documents/HackZurich/contamination_detection/src/dried_bean/\"\n",
    "path3 =  \"/home/natalija/Documents/HackZurich/contamination_detection/src/fines/\"\n",
    "path4 =  \"/home/natalija/Documents/HackZurich/contamination_detection/src/grains/\"\n",
    "path5 =  \"/home/natalija/Documents/HackZurich/contamination_detection/src/lentils/\"\n",
    "path6 =  \"/home/natalija/Documents/HackZurich/contamination_detection/src/pumpkin/\"\n",
    "path7 =  \"/home/natalija/Documents/HackZurich/contamination_detection/src/stones/\"\n",
    "path8 =   \"/home/natalija/Documents/HackZurich/contamination_detection/src/straw/\""
   ]
  },
  {
   "cell_type": "code",
   "execution_count": 8,
   "metadata": {
    "collapsed": true
   },
   "outputs": [],
   "source": [
    "import glob"
   ]
  },
  {
   "cell_type": "code",
   "execution_count": 129,
   "metadata": {
    "collapsed": false
   },
   "outputs": [],
   "source": [
    "features = []\n",
    "test_features = []\n",
    "y = []\n",
    "test_y=[]\n",
    "import random\n",
    "\n",
    "for filename in glob.glob('{}*.png'.format(path1)): #assuming gif\n",
    "    im=cv2.imread(filename)\n",
    "    vector = np.zeros(84645)\n",
    "    new = np.concatenate((im[:,:,0].ravel(), im[:,:,1].ravel(), im[:,:,2].ravel()))\n",
    "    vector[0:len(new)]=new\n",
    "    if random.randint(0,100) < 80:\n",
    "        features.append(np.array(vector))\n",
    "        y.append(1)\n",
    "    else:\n",
    "        test_features.append(np.array(vector))\n",
    "        test_y.append(1)\n",
    "    \n",
    "for filename in glob.glob('{}*.png'.format(path2)): #assuming gif\n",
    "    im=cv2.imread(filename)\n",
    "    vector = np.zeros(84645)\n",
    "    new = np.concatenate((im[:,:,0].ravel(), im[:,:,1].ravel(), im[:,:,2].ravel()))\n",
    "    vector[0:len(new)]=new\n",
    "    if random.randint(0,100) < 80:\n",
    "        features.append(np.array(vector))\n",
    "        y.append(2)\n",
    "    else:\n",
    "        test_features.append(np.array(vector))\n",
    "        test_y.append(2)\n",
    "    \n",
    "    \n",
    "for filename in glob.glob('{}*.png'.format(path3)): #assuming gif\n",
    "    vector = np.zeros(84645)\n",
    "    new = np.concatenate((im[:,:,0].ravel(), im[:,:,1].ravel(), im[:,:,2].ravel()))\n",
    "    vector[0:len(new)]=new\n",
    "    if random.randint(0,100) < 80:\n",
    "        features.append(np.array(vector))\n",
    "        y.append(3)\n",
    "    else:\n",
    "        test_features.append(np.array(vector))\n",
    "        test_y.append(3)\n",
    "    \n",
    "\n",
    "    \n",
    "for filename in glob.glob('{}*.png'.format(path4)): #assuming gif\n",
    "    im=cv2.imread(filename)\n",
    "    vector = np.zeros(84645)\n",
    "    new = np.concatenate((im[:,:,0].ravel(), im[:,:,1].ravel(), im[:,:,2].ravel()))\n",
    "    vector[0:len(new)]=new\n",
    "    if random.randint(0,100) < 80:\n",
    "        features.append(np.array(vector))\n",
    "        y.append(4)\n",
    "    else:\n",
    "        test_features.append(np.array(vector))\n",
    "        test_y.append(4)\n",
    "\n",
    "    \n",
    "for filename in glob.glob('{}*.png'.format(path5)): #assuming gif\n",
    "    im=cv2.imread(filename)\n",
    "    vector = np.zeros(84645)\n",
    "    new = np.concatenate((im[:,:,0].ravel(), im[:,:,1].ravel(), im[:,:,2].ravel()))\n",
    "    vector[0:len(new)]=new\n",
    "    if random.randint(0,100) < 80:\n",
    "        features.append(np.array(vector))\n",
    "        y.append(5)\n",
    "    else:\n",
    "        test_features.append(np.array(vector))\n",
    "        test_y.append(5)\n",
    "\n",
    "    \n",
    "for filename in glob.glob('{}*.png'.format(path6)): #assuming gif\n",
    "    im=cv2.imread(filename)\n",
    "    vector = np.zeros(84645)\n",
    "    new = np.concatenate((im[:,:,0].ravel(), im[:,:,1].ravel(), im[:,:,2].ravel()))\n",
    "    vector[0:len(new)]=new\n",
    "    if random.randint(0,100) < 80:\n",
    "        features.append(np.array(vector))\n",
    "        y.append(6)\n",
    "    else:\n",
    "        test_features.append(np.array(vector))\n",
    "        test_y.append(6)\n",
    "\n",
    "    \n",
    "for filename in glob.glob('{}*.png'.format(path7)): #assuming gif\n",
    "    im=cv2.imread(filename)\n",
    "    vector = np.zeros(84645)\n",
    "    new = np.concatenate((im[:,:,0].ravel(), im[:,:,1].ravel(), im[:,:,2].ravel()))\n",
    "    vector[0:len(new)]=new\n",
    "    if random.randint(0,100) < 80:\n",
    "        features.append(np.array(vector))\n",
    "        y.append(7)\n",
    "    else:\n",
    "        test_features.append(np.array(vector))\n",
    "        test_y.append(7)\n",
    "\n",
    "\n",
    "for filename in glob.glob('{}*.png'.format(path8)): \n",
    "    im=cv2.imread(filename)\n",
    "    vector = np.zeros(84645)\n",
    "    new = np.concatenate((im[:,:,0].ravel(), im[:,:,1].ravel(), im[:,:,2].ravel()))\n",
    "    vector[0:len(new)]=new\n",
    "    if random.randint(0,100) < 80:\n",
    "        features.append(np.array(vector))\n",
    "        y.append(8)\n",
    "    else:\n",
    "        test_features.append(np.array(vector))\n",
    "        test_y.append(8)\n"
   ]
  },
  {
   "cell_type": "code",
   "execution_count": 130,
   "metadata": {
    "collapsed": false
   },
   "outputs": [],
   "source": [
    "def vector_feature_generation(img): \n",
    "    features = []\n",
    "    \n",
    "    #Whatch out the parameters\n",
    "    img_mask = display_img(138, 217, 6, 7,path=path)\n",
    "    x, y = img_mask.shape\n",
    "\n",
    "    #NOT A MUST##################################################################################\n",
    "    for i in range(x):\n",
    "        for j in range(y): \n",
    "            if img_mask[i,j]!=0:\n",
    "                image[i,j,:] = [255, 255, 255]\n",
    "        \n",
    "    cv2.imwrite(\"/home/natalija/Documents/HackZurich/contamination_detection/src/new1.jpg\", image)  \n",
    "    ##############################################################################################\n",
    "    d = {}\n",
    "    x,y = labeled.shape\n",
    "    for i in range(1,nr_objects+1): \n",
    "        d[i] = np.zeros((x,y,3))\n",
    "\n",
    "    for i in range(1,x): \n",
    "        for j in range(1,y): \n",
    "            if labeled[i,j]:\n",
    "                d[labeled[i,j]][i,j,:] = image[i,j,:]\n",
    "\n",
    "    for key, value in d.items(): \n",
    "        non_empty_columns = np.where(value.max(axis=0)>0)[0]\n",
    "        non_empty_rows = np.where(value.max(axis=1)>0)[0]\n",
    "        cropBox = (min(non_empty_rows), max(non_empty_rows), min(non_empty_columns), max(non_empty_columns))        \n",
    "        image_data = value[cropBox[0]:cropBox[1]+1, cropBox[2]:cropBox[3]+1 , :]\n",
    "        #cv2.imwrite(\"/home/natalija/Documents/HackZurich/contamination_detection/src/image{}.png\".format(key), image_data)\n",
    "        \n",
    "        features.append(np.concatenate((image_data[:,:,0].ravel(), image_data[:,:,1].ravel(), image_data[:,:,2].ravel())))\n",
    "        \n",
    "        #reduce dimensionality\n",
    "        pca = PCA(n_components=1000)\n",
    "        features = pca.fit_transform(features)\n",
    "        \n",
    "    return features"
   ]
  },
  {
   "cell_type": "code",
   "execution_count": 131,
   "metadata": {
    "collapsed": true
   },
   "outputs": [],
   "source": [
    "from sklearn.decomposition import PCA"
   ]
  },
  {
   "cell_type": "code",
   "execution_count": 132,
   "metadata": {
    "collapsed": false
   },
   "outputs": [],
   "source": [
    "pca = PCA(n_components=100)\n",
    "for i in test_features: \n",
    "    features.append(np.array(i))\n",
    "    \n",
    "X = pca.fit_transform(features)\n",
    "X_train = X[0:len(X)-len(test_features)]\n",
    "X_test = X[len(X)-len(test_features)::]"
   ]
  },
  {
   "cell_type": "code",
   "execution_count": 133,
   "metadata": {
    "collapsed": false
   },
   "outputs": [],
   "source": [
    "from sklearn.ensemble import GradientBoostingClassifier"
   ]
  },
  {
   "cell_type": "code",
   "execution_count": 134,
   "metadata": {
    "collapsed": false
   },
   "outputs": [
    {
     "name": "stdout",
     "output_type": "stream",
     "text": [
      "132\n"
     ]
    }
   ],
   "source": [
    "model = GradientBoostingClassifier()\n",
    "print(len(X))"
   ]
  },
  {
   "cell_type": "code",
   "execution_count": 135,
   "metadata": {
    "collapsed": false
   },
   "outputs": [
    {
     "data": {
      "text/plain": [
       "GradientBoostingClassifier(criterion='friedman_mse', init=None,\n",
       "              learning_rate=0.1, loss='deviance', max_depth=3,\n",
       "              max_features=None, max_leaf_nodes=None,\n",
       "              min_impurity_split=1e-07, min_samples_leaf=1,\n",
       "              min_samples_split=2, min_weight_fraction_leaf=0.0,\n",
       "              n_estimators=100, presort='auto', random_state=None,\n",
       "              subsample=1.0, verbose=0, warm_start=False)"
      ]
     },
     "execution_count": 135,
     "metadata": {},
     "output_type": "execute_result"
    }
   ],
   "source": [
    "model.fit(X_train, y)"
   ]
  },
  {
   "cell_type": "code",
   "execution_count": 136,
   "metadata": {
    "collapsed": false
   },
   "outputs": [],
   "source": [
    "import pickle\n",
    "\n",
    "pickle.dump(model, open(\"/home/natalija/Documents/HackZurich/contamination_detection/model.pkl\", 'wb'))"
   ]
  },
  {
   "cell_type": "code",
   "execution_count": 137,
   "metadata": {
    "collapsed": false
   },
   "outputs": [
    {
     "name": "stdout",
     "output_type": "stream",
     "text": [
      "[1, 1, 1, 2, 4, 4, 4, 4, 4, 4, 4, 4, 5, 5, 6, 6, 6, 6, 6, 6, 6, 7, 8, 8, 8]\n"
     ]
    }
   ],
   "source": [
    "print(test_y)"
   ]
  },
  {
   "cell_type": "code",
   "execution_count": 138,
   "metadata": {
    "collapsed": false
   },
   "outputs": [],
   "source": [
    "count = 1\n",
    "for i in range(len(test_y)):\n",
    "    if test_y[i]==res[i]:\n",
    "        count+=1"
   ]
  },
  {
   "cell_type": "code",
   "execution_count": 139,
   "metadata": {
    "collapsed": false
   },
   "outputs": [
    {
     "name": "stdout",
     "output_type": "stream",
     "text": [
      "0.56\n"
     ]
    }
   ],
   "source": [
    "print(count/len(test_y))"
   ]
  },
  {
   "cell_type": "code",
   "execution_count": null,
   "metadata": {
    "collapsed": true
   },
   "outputs": [],
   "source": []
  }
 ],
 "metadata": {
  "kernelspec": {
   "display_name": "Python 3",
   "language": "python",
   "name": "python3"
  },
  "language_info": {
   "codemirror_mode": {
    "name": "ipython",
    "version": 3
   },
   "file_extension": ".py",
   "mimetype": "text/x-python",
   "name": "python",
   "nbconvert_exporter": "python",
   "pygments_lexer": "ipython3",
   "version": "3.5.2"
  }
 },
 "nbformat": 4,
 "nbformat_minor": 2
}
